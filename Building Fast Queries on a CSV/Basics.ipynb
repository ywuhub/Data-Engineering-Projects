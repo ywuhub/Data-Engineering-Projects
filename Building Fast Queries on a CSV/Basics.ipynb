{
 "cells": [
  {
   "cell_type": "markdown",
   "metadata": {},
   "source": [
    "# Project: Building Fast Queries on a CSV"
   ]
  },
  {
   "cell_type": "markdown",
   "metadata": {},
   "source": [
    "## Context "
   ]
  },
  {
   "cell_type": "markdown",
   "metadata": {},
   "source": [
    "We will imagine that we own an online laptop store and want to build a way to answer a few different business questions about our inventory.\n",
    "\n",
    "We will use the laptops.csv file as our inventory. This CSV file was adapted from the [Laptop Prices dataset on Kaggle](https://www.kaggle.com/ionaskel/laptop-prices). We changed the IDs and made the prices integers."
   ]
  },
  {
   "cell_type": "markdown",
   "metadata": {},
   "source": [
    "##  Import the Inventory Data"
   ]
  },
  {
   "cell_type": "code",
   "execution_count": 46,
   "metadata": {
    "collapsed": false
   },
   "outputs": [
    {
     "name": "stdout",
     "output_type": "stream",
     "text": [
      "['Id', 'Company', 'Product', 'TypeName', 'Inches', 'ScreenResolution', 'Cpu', 'Ram', 'Memory', 'Gpu', 'OpSys', 'Weight', 'Price'] \n",
      "\n",
      "['6571244', 'Apple', 'MacBook Pro', 'Ultrabook', '13.3', 'IPS Panel Retina Display 2560x1600', 'Intel Core i5 2.3GHz', '8GB', '128GB SSD', 'Intel Iris Plus Graphics 640', 'macOS', '1.37kg', '1339'] \n",
      "\n",
      "['7287764', 'Apple', 'Macbook Air', 'Ultrabook', '13.3', '1440x900', 'Intel Core i5 1.8GHz', '8GB', '128GB Flash Storage', 'Intel HD Graphics 6000', 'macOS', '1.34kg', '898'] \n",
      "\n",
      "['3362737', 'HP', '250 G6', 'Notebook', '15.6', 'Full HD 1920x1080', 'Intel Core i5 7200U 2.5GHz', '8GB', '256GB SSD', 'Intel HD Graphics 620', 'No OS', '1.86kg', '575'] \n",
      "\n",
      "['9722156', 'Apple', 'MacBook Pro', 'Ultrabook', '15.4', 'IPS Panel Retina Display 2880x1800', 'Intel Core i7 2.7GHz', '16GB', '512GB SSD', 'AMD Radeon Pro 455', 'macOS', '1.83kg', '2537'] \n",
      "\n",
      "['8550527', 'Apple', 'MacBook Pro', 'Ultrabook', '13.3', 'IPS Panel Retina Display 2560x1600', 'Intel Core i5 3.1GHz', '8GB', '256GB SSD', 'Intel Iris Plus Graphics 650', 'macOS', '1.37kg', '1803'] \n",
      "\n",
      "['8529462', 'Acer', 'Aspire 3', 'Notebook', '15.6', '1366x768', 'AMD A9-Series 9420 3GHz', '4GB', '500GB HDD', 'AMD Radeon R5', 'Windows 10', '2.1kg', '400'] \n",
      "\n"
     ]
    }
   ],
   "source": [
    "import csv\n",
    "\n",
    "# read in file\n",
    "with open('laptops.csv', encoding='utf-8') as file:\n",
    "    opened_file = csv.reader(file)\n",
    "    inventory = list(opened_file)\n",
    "    header = inventory[0]\n",
    "    rows = inventory[1:]\n",
    "    \n",
    "# display the header\n",
    "print(header, \"\\n\")\n",
    "\n",
    "# display the first five rows\n",
    "for row in rows[:6]:\n",
    "    print(row, \"\\n\")\n"
   ]
  },
  {
   "cell_type": "markdown",
   "metadata": {},
   "source": [
    "## Creating an Inventory Class "
   ]
  },
  {
   "cell_type": "code",
   "execution_count": 47,
   "metadata": {
    "collapsed": false
   },
   "outputs": [
    {
     "name": "stdout",
     "output_type": "stream",
     "text": [
      "['Id', 'Company', 'Product', 'TypeName', 'Inches', 'ScreenResolution', 'Cpu', 'Ram', 'Memory', 'Gpu', 'OpSys', 'Weight', 'Price'] \n",
      "\n",
      "['6571244', 'Apple', 'MacBook Pro', 'Ultrabook', '13.3', 'IPS Panel Retina Display 2560x1600', 'Intel Core i5 2.3GHz', '8GB', '128GB SSD', 'Intel Iris Plus Graphics 640', 'macOS', '1.37kg', 1339] \n",
      "\n",
      "['7287764', 'Apple', 'Macbook Air', 'Ultrabook', '13.3', '1440x900', 'Intel Core i5 1.8GHz', '8GB', '128GB Flash Storage', 'Intel HD Graphics 6000', 'macOS', '1.34kg', 898] \n",
      "\n",
      "['3362737', 'HP', '250 G6', 'Notebook', '15.6', 'Full HD 1920x1080', 'Intel Core i5 7200U 2.5GHz', '8GB', '256GB SSD', 'Intel HD Graphics 620', 'No OS', '1.86kg', 575] \n",
      "\n"
     ]
    }
   ],
   "source": [
    "class inventory():\n",
    "    def __init__(self, csv_file):\n",
    "        with open(csv_file, encoding='utf-8') as file:\n",
    "            opened_file = csv.reader(file)\n",
    "            inventory = list(opened_file)\n",
    "            self.header = inventory[0]\n",
    "            self.rows = inventory[1:]\n",
    "            \n",
    "            for row in self.rows:\n",
    "                price = int(row[-1])\n",
    "                row[-1] = price\n",
    "    \n",
    "laptop_inv = inventory('laptops.csv')\n",
    "\n",
    "# display the attributes (header, first 3 rows) of the inventory to check if it works\n",
    "print(laptop_inv.header, \"\\n\")\n",
    "\n",
    "for row in laptop_inv.rows[:3]:\n",
    "    print(row, \"\\n\")"
   ]
  },
  {
   "cell_type": "markdown",
   "metadata": {},
   "source": [
    "## Finding a Laptop from the Inventory Based on the ID "
   ]
  },
  {
   "cell_type": "markdown",
   "metadata": {},
   "source": [
    "The first thing that we will implement is a way to look up a laptop from a given identifier. In this way, when a customer comes to our store with a purchase slip, we can quickly identify the laptop to which it corresponds.\n",
    "\n",
    "For this, we will write a function named get_laptop_from_id(). This function will take as argument the identifier of the laptop and return the full row of the laptop with that id."
   ]
  },
  {
   "cell_type": "code",
   "execution_count": 48,
   "metadata": {
    "collapsed": false
   },
   "outputs": [
    {
     "name": "stdout",
     "output_type": "stream",
     "text": [
      "Existing Laptop ID\n",
      "Result: ['3362737', 'HP', '250 G6', 'Notebook', '15.6', 'Full HD 1920x1080', 'Intel Core i5 7200U 2.5GHz', '8GB', '256GB SSD', 'Intel HD Graphics 620', 'No OS', '1.86kg', 575] \n",
      "\n",
      "Non Existent Laptop ID\n",
      "Result: None \n",
      "\n"
     ]
    }
   ],
   "source": [
    "# create a updated inventory class with the get_laptop_from_id() method\n",
    "class inventory():\n",
    "    def __init__(self, csv_file):\n",
    "        with open(csv_file, encoding='utf-8') as file:\n",
    "            opened_file = csv.reader(file)\n",
    "            inventory = list(opened_file)\n",
    "            self.header = inventory[0]\n",
    "            self.rows = inventory[1:]\n",
    "            \n",
    "            for row in self.rows:\n",
    "                price = int(row[-1])\n",
    "                row[-1] = price\n",
    "\n",
    "    def get_laptop_from_id(self, laptop_id):\n",
    "        for row in self.rows:\n",
    "            product_id = row[0]\n",
    "            \n",
    "            if laptop_id == product_id:\n",
    "                return row\n",
    "            \n",
    "        return None\n",
    "    \n",
    "# test new method\n",
    "laptop = inventory('laptops.csv')\n",
    "\n",
    "# if laptop exists\n",
    "print(\"Existing Laptop ID\")\n",
    "result = laptop.get_laptop_from_id('3362737')\n",
    "print(\"Result:\", result, \"\\n\")\n",
    "\n",
    "# if laptop id does not exists print nothing\n",
    "print(\"Non Existent Laptop ID\")\n",
    "result = laptop.get_laptop_from_id('3362736')\n",
    "print(\"Result:\", result, \"\\n\")"
   ]
  },
  {
   "cell_type": "markdown",
   "metadata": {},
   "source": [
    "<b>Comment:<\\b> The time complexity of this method will take O(n), where n is the number of rows of the csv file (excluding header). Now, we should create a faster way of retrieval of the laptop data. To get rid of the for loop, we can try to store the data into a dictionary where the laptop id is the key and the value is the data."
   ]
  },
  {
   "cell_type": "markdown",
   "metadata": {},
   "source": [
    "## Improving The Laptop ID Lookups "
   ]
  },
  {
   "cell_type": "code",
   "execution_count": 49,
   "metadata": {
    "collapsed": false
   },
   "outputs": [
    {
     "name": "stdout",
     "output_type": "stream",
     "text": [
      "Existing Laptop ID\n",
      "Result: ['3362737', 'HP', '250 G6', 'Notebook', '15.6', 'Full HD 1920x1080', 'Intel Core i5 7200U 2.5GHz', '8GB', '256GB SSD', 'Intel HD Graphics 620', 'No OS', '1.86kg', 575] \n",
      "\n",
      "Non Existent Laptop ID\n",
      "Result: None \n",
      "\n"
     ]
    }
   ],
   "source": [
    "# the updated inventory class\n",
    "class inventory():\n",
    "    def __init__(self, csv_file):\n",
    "        self.id_to_row = {}\n",
    "        \n",
    "        with open(csv_file, encoding='utf-8') as file:\n",
    "            opened_file = csv.reader(file)\n",
    "            inventory = list(opened_file)\n",
    "            self.header = inventory[0]\n",
    "            self.rows = inventory[1:]\n",
    "            \n",
    "            for row in self.rows:\n",
    "                price = int(row[-1])\n",
    "                row[-1] = price\n",
    "                \n",
    "                # store data in dictionary\n",
    "                laptop_id = row[0]\n",
    "                self.id_to_row[laptop_id] = row\n",
    "\n",
    "    def get_laptop_from_id(self, laptop_id):\n",
    "        for row in self.rows:\n",
    "            product_id = row[0]\n",
    "            \n",
    "            if laptop_id == product_id:\n",
    "                return row\n",
    "            \n",
    "        return None\n",
    "    \n",
    "    def get_laptop_from_id_faster(self, laptop_id):\n",
    "        if laptop_id in self.id_to_row:\n",
    "            return self.id_to_row[laptop_id]\n",
    "        else:\n",
    "            return None\n",
    "        \n",
    "# test new method\n",
    "laptop = inventory('laptops.csv')\n",
    "\n",
    "# if laptop exists\n",
    "print(\"Existing Laptop ID\")\n",
    "result = laptop.get_laptop_from_id_faster('3362737')\n",
    "print(\"Result:\", result, \"\\n\")\n",
    "\n",
    "# if laptop id does not exists print nothing\n",
    "print(\"Non Existent Laptop ID\")\n",
    "result = laptop.get_laptop_from_id_faster('3362736')\n",
    "print(\"Result:\", result, \"\\n\")"
   ]
  },
  {
   "cell_type": "markdown",
   "metadata": {},
   "source": [
    "<b>Comment</b>: Here, the new method of id retrieval has a time complexity of O(1) as all we are checking is if the laptop_id exists as a key in the dictionary we created."
   ]
  },
  {
   "cell_type": "markdown",
   "metadata": {},
   "source": [
    "## Comparing the Performance of Both Methods "
   ]
  },
  {
   "cell_type": "code",
   "execution_count": 50,
   "metadata": {
    "collapsed": false
   },
   "outputs": [
    {
     "name": "stdout",
     "output_type": "stream",
     "text": [
      "For Loop Performance: 1.6590468883514404\n",
      "Dictionary Performance: 0.00624394416809082\n"
     ]
    }
   ],
   "source": [
    "import time, random\n",
    "\n",
    "# generate 10,000 random values\n",
    "ids = [random.randint(1000000, 9999999) for _ in range(10000)]\n",
    "\n",
    "# instantiate new object from the inventory class\n",
    "laptop = inventory('laptops.csv')\n",
    "\n",
    "# get performance of first method\n",
    "total_time_no_dict = 0\n",
    "\n",
    "for laptop_id in ids:\n",
    "    start = time.time()\n",
    "    result = laptop.get_laptop_from_id(laptop_id)\n",
    "    end = time.time()\n",
    "    total_time_no_dict += end - start\n",
    "\n",
    "# get performance of second method    \n",
    "total_time_dict = 0\n",
    "\n",
    "for laptop_id in ids:\n",
    "    start = time.time()\n",
    "    result = laptop.get_laptop_from_id_faster(laptop_id)\n",
    "    end = time.time()\n",
    "    total_time_dict += end - start\n",
    "    \n",
    "# display the total time for both methods\n",
    "print(\"For Loop Performance:\", total_time_no_dict)\n",
    "print(\"Dictionary Performance:\", total_time_dict)"
   ]
  },
  {
   "cell_type": "markdown",
   "metadata": {},
   "source": [
    "<b>Comment:</b> Clearly, the performance of the dictionary retrieval method is faster as postulated earlier."
   ]
  },
  {
   "cell_type": "markdown",
   "metadata": {},
   "source": [
    "## Scenario: Two Laptop Promotions"
   ]
  },
  {
   "cell_type": "markdown",
   "metadata": {},
   "source": [
    "Sometimes, your store offers a promotion where you give a gift card. A customer can use the gift to buy up to two laptops. To avoid having to keep track of what was already spent, the gift card has a single time usage. This means that, even if there is leftover money, it cannot be used anymore.\n",
    "\n",
    "For example, imagine that there are only three laptops in inventory:\n",
    "\n",
    "The prices of these laptops are \\$1,339, \\$898, and \\$575. Say we offered a gift card of \\$2,500. Since a customer can buy, at most, two laptops with a gift card, the maximum they can spend is \\$2,237 (\\$1,339 plus \\$898). Therefore, they might feel cheated because, no matter how they spend their gift card, they cannot spend the full \\$2,500.\n",
    "\n",
    "You don't want to make a customer feel cheated, so whenever you issue a gift card, you want to make sure that there is at least one way to spend it in full. In other words, before issuing a gift card for D dollars, you want to make sure that either there is a laptop that costs exactly D dollars or two laptops whose costs add up to precisely D dollars.\n",
    "\n",
    "We should write a function that, given a dollar amount, checks whether it is possible to spend precisely that amount by purchasing up to two laptops."
   ]
  },
  {
   "cell_type": "code",
   "execution_count": 51,
   "metadata": {
    "collapsed": false
   },
   "outputs": [
    {
     "name": "stdout",
     "output_type": "stream",
     "text": [
      "Laptops found that equal exactly $1000: True\n",
      "Laptops found that equal exactly $442: False\n"
     ]
    }
   ],
   "source": [
    "# the updated inventory class\n",
    "class inventory():\n",
    "    def __init__(self, csv_file):\n",
    "        self.id_to_row = {}\n",
    "        \n",
    "        with open(csv_file, encoding='utf-8') as file:\n",
    "            opened_file = csv.reader(file)\n",
    "            inventory = list(opened_file)\n",
    "            self.header = inventory[0]\n",
    "            self.rows = inventory[1:]\n",
    "            \n",
    "            for row in self.rows:\n",
    "                price = int(row[-1])\n",
    "                row[-1] = price\n",
    "                \n",
    "                # store data in dictionary\n",
    "                laptop_id = row[0]\n",
    "                self.id_to_row[laptop_id] = row\n",
    "\n",
    "    def get_laptop_from_id(self, laptop_id):\n",
    "        for row in self.rows:\n",
    "            product_id = row[0]\n",
    "            \n",
    "            if laptop_id == product_id:\n",
    "                return row\n",
    "            \n",
    "        return None\n",
    "    \n",
    "    def get_laptop_from_id_faster(self, laptop_id):\n",
    "        if laptop_id in self.id_to_row:\n",
    "            return self.id_to_row[laptop_id]\n",
    "        else:\n",
    "            return None\n",
    "    \n",
    "    def check_promotion_dollars(self, dollars):\n",
    "        # check if a laptop cost the exact dollar amount\n",
    "        for row in self.rows:\n",
    "            price = row[-1]\n",
    "            if price == dollars:\n",
    "                return True\n",
    "        \n",
    "        # check if pairs of laptops add up to the dollar amount\n",
    "        amount = 0\n",
    "        for row in self.rows:\n",
    "            a_price = row[-1]\n",
    "            for row in self.rows:\n",
    "                b_price = row[-1]\n",
    "                if (a_price + b_price) == dollars:\n",
    "                    return True\n",
    "            \n",
    "        # return false if it is impossible to spend the specified dollar amount\n",
    "        return False\n",
    "        \n",
    "# test new method with two scenarios: solution (laptops found) vs no solution\n",
    "laptop = inventory('laptops.csv')\n",
    "result_a = laptop.check_promotion_dollars(1000)\n",
    "result_b = laptop.check_promotion_dollars(442)\n",
    "\n",
    "print(\"Laptops found that equal exactly $1000:\", result_a) # solution\n",
    "print(\"Laptops found that equal exactly $442:\", result_b) # no solution"
   ]
  },
  {
   "cell_type": "markdown",
   "metadata": {},
   "source": [
    "## Optimizing Laptop Promotion Method "
   ]
  },
  {
   "cell_type": "markdown",
   "metadata": {},
   "source": [
    "Now, we should optimize our check_promotion_dollars as the for loop has a time complexity of O(n^2)."
   ]
  },
  {
   "cell_type": "code",
   "execution_count": 52,
   "metadata": {
    "collapsed": false
   },
   "outputs": [
    {
     "name": "stdout",
     "output_type": "stream",
     "text": [
      "Laptops found that equal exactly $1000: True\n",
      "Laptops found that equal exactly $442: False\n"
     ]
    }
   ],
   "source": [
    "# the updated inventory class\n",
    "class inventory():\n",
    "    def __init__(self, csv_file):\n",
    "        self.id_to_row = {}\n",
    "        self.prices = set()\n",
    "        \n",
    "        with open(csv_file, encoding='utf-8') as file:\n",
    "            opened_file = csv.reader(file)\n",
    "            inventory = list(opened_file)\n",
    "            self.header = inventory[0]\n",
    "            self.rows = inventory[1:]\n",
    "            \n",
    "            for row in self.rows:\n",
    "                price = int(row[-1])\n",
    "                row[-1] = price\n",
    "                \n",
    "                # store data in dictionary\n",
    "                laptop_id = row[0]\n",
    "                self.id_to_row[laptop_id] = row\n",
    "                self.prices.add(price)\n",
    "                \n",
    "    def get_laptop_from_id(self, laptop_id):\n",
    "        for row in self.rows:\n",
    "            product_id = row[0]\n",
    "            \n",
    "            if laptop_id == product_id:\n",
    "                return row\n",
    "            \n",
    "        return None\n",
    "    \n",
    "    def get_laptop_from_id_faster(self, laptop_id):\n",
    "        if laptop_id in self.id_to_row:\n",
    "            return self.id_to_row[laptop_id]\n",
    "        else:\n",
    "            return None\n",
    "    \n",
    "    def check_promotion_dollars(self, dollars):\n",
    "        # check if a laptop cost the exact dollar amount\n",
    "        for row in self.rows:\n",
    "            price = row[-1]\n",
    "            if price == dollars:\n",
    "                return True\n",
    "        \n",
    "        # check if pairs of laptops add up to the dollar amount\n",
    "        amount = 0\n",
    "        for row in self.rows:\n",
    "            a_price = row[-1]\n",
    "            for row in self.rows:\n",
    "                b_price = row[-1]\n",
    "                if (a_price + b_price) == dollars:\n",
    "                    return True\n",
    "            \n",
    "        # return false if it is impossible to spend the specified dollar amount\n",
    "        return False\n",
    "    \n",
    "    def check_promotion_dollars_faster(self, dollars):\n",
    "        if dollars in self.prices:\n",
    "            return True\n",
    "        \n",
    "        for price in self.prices:\n",
    "            b_price = dollars - price\n",
    "            if b_price in self.prices:\n",
    "                return True\n",
    "            \n",
    "        return False\n",
    "    \n",
    "# test new method with two scenarios: solution (laptops found) vs no solution\n",
    "laptop = inventory('laptops.csv')\n",
    "result_a = laptop.check_promotion_dollars_faster(1000)\n",
    "result_b = laptop.check_promotion_dollars_faster(442)\n",
    "\n",
    "print(\"Laptops found that equal exactly $1000:\", result_a) # solution\n",
    "print(\"Laptops found that equal exactly $442:\", result_b) # no solution    "
   ]
  },
  {
   "cell_type": "markdown",
   "metadata": {},
   "source": [
    "## Comparing Laptop Promotion Methods "
   ]
  },
  {
   "cell_type": "markdown",
   "metadata": {},
   "source": [
    "Now, let us compare the methods we just implemented to check the performance of each."
   ]
  },
  {
   "cell_type": "code",
   "execution_count": 53,
   "metadata": {
    "collapsed": false
   },
   "outputs": [
    {
     "name": "stdout",
     "output_type": "stream",
     "text": [
      "Performance without using sets: 2.8923263549804688\n",
      "Performance using sets: 0.001329660415649414\n"
     ]
    }
   ],
   "source": [
    "# generate 100 random values between 100 and 5000\n",
    "prices = [random.randint(100,5000) for _ in range(100)]\n",
    "\n",
    "# create instance of inventory\n",
    "laptops = inventory('laptops.csv')\n",
    "\n",
    "# check time of first method\n",
    "total_time_no_set = 0\n",
    "\n",
    "for price in prices:\n",
    "    start = time.time()\n",
    "    result = laptops.check_promotion_dollars(price)\n",
    "    end = time.time()\n",
    "    total_time_no_set += (end - start)\n",
    "    \n",
    "# check time of second method\n",
    "total_time_set = 0\n",
    "\n",
    "for price in prices:\n",
    "    start = time.time()\n",
    "    result = laptops.check_promotion_dollars_faster(price)\n",
    "    end = time.time()\n",
    "    total_time_set += (end - start)\n",
    "        \n",
    "# display results\n",
    "print(\"Performance without using sets:\", total_time_no_set)\n",
    "print(\"Performance using sets:\", total_time_set)"
   ]
  },
  {
   "cell_type": "markdown",
   "metadata": {},
   "source": [
    "<b>Comment</b> Clearly, using sets are much better for performance than the double for loops we used previously. This correlates with their respective time complexities of each method with were O(n^2) and O(n)."
   ]
  },
  {
   "cell_type": "markdown",
   "metadata": {},
   "source": [
    "## Finding Laptops Within a Budget"
   ]
  },
  {
   "cell_type": "markdown",
   "metadata": {},
   "source": [
    "In this project, we are going to leverage and extend the binary search algorithm to help a customer find all laptops that fall within their budget.\n",
    "\n",
    "More formally, we want to write a method that efficiently answers the query: Given a budget of D dollars, find all laptops whose price it at most D.\n",
    "\n",
    "If we sort all laptops by price, we can use binary search to identify the first laptop in the sorted list with a price larger than D. We need to make sure that our binary search finds the first one on the list. Then, the result of the query will consist of all laptops whose index in the sorted list is smaller than the index of the first laptop whose price is higher than D dollars:"
   ]
  },
  {
   "cell_type": "code",
   "execution_count": 60,
   "metadata": {
    "collapsed": false
   },
   "outputs": [
    {
     "ename": "NameError",
     "evalue": "name 'a_price' is not defined",
     "output_type": "error",
     "traceback": [
      "\u001b[1;31m\u001b[0m",
      "\u001b[1;31mNameError\u001b[0mTraceback (most recent call last)",
      "\u001b[1;32m<ipython-input-60-b72b6233e230>\u001b[0m in \u001b[0;36m<module>\u001b[1;34m()\u001b[0m\n\u001b[0;32m     86\u001b[0m \u001b[0mlaptops\u001b[0m \u001b[1;33m=\u001b[0m \u001b[0minventory\u001b[0m\u001b[1;33m(\u001b[0m\u001b[1;34m'laptops.csv'\u001b[0m\u001b[1;33m)\u001b[0m\u001b[1;33m\u001b[0m\u001b[0m\n\u001b[0;32m     87\u001b[0m \u001b[1;33m\u001b[0m\u001b[0m\n\u001b[1;32m---> 88\u001b[1;33m \u001b[0mindex\u001b[0m \u001b[1;33m=\u001b[0m \u001b[0mlaptops\u001b[0m\u001b[1;33m.\u001b[0m\u001b[0mfind_first_laptop_more_expensive\u001b[0m\u001b[1;33m(\u001b[0m\u001b[1;36m1000\u001b[0m\u001b[1;33m)\u001b[0m \u001b[1;31m# answer: 683\u001b[0m\u001b[1;33m\u001b[0m\u001b[0m\n\u001b[0m\u001b[0;32m     89\u001b[0m \u001b[0mprint\u001b[0m\u001b[1;33m(\u001b[0m\u001b[1;34m\"Expected Index: 683\"\u001b[0m\u001b[1;33m,\u001b[0m \u001b[1;34m\"Returned Index:\"\u001b[0m\u001b[1;33m,\u001b[0m \u001b[0mindex\u001b[0m\u001b[1;33m)\u001b[0m\u001b[1;33m\u001b[0m\u001b[0m\n\u001b[0;32m     90\u001b[0m \u001b[1;33m\u001b[0m\u001b[0m\n",
      "\u001b[1;32m<ipython-input-60-b72b6233e230>\u001b[0m in \u001b[0;36mfind_first_laptop_more_expensive\u001b[1;34m(self, price)\u001b[0m\n\u001b[0;32m     79\u001b[0m                 \u001b[0mrange_start\u001b[0m \u001b[1;33m=\u001b[0m \u001b[0mrange_middle\u001b[0m \u001b[1;33m+\u001b[0m \u001b[1;36m1\u001b[0m\u001b[1;33m\u001b[0m\u001b[0m\n\u001b[0;32m     80\u001b[0m \u001b[1;33m\u001b[0m\u001b[0m\n\u001b[1;32m---> 81\u001b[1;33m         \u001b[1;32mif\u001b[0m \u001b[0ma_price\u001b[0m \u001b[1;33m!=\u001b[0m \u001b[0mprice\u001b[0m\u001b[1;33m:\u001b[0m\u001b[1;33m\u001b[0m\u001b[0m\n\u001b[0m\u001b[0;32m     82\u001b[0m             \u001b[1;32mreturn\u001b[0m \u001b[1;33m-\u001b[0m\u001b[1;36m1\u001b[0m\u001b[1;33m\u001b[0m\u001b[0m\n\u001b[0;32m     83\u001b[0m         \u001b[1;32mreturn\u001b[0m \u001b[0mrange_start\u001b[0m\u001b[1;33m\u001b[0m\u001b[0m\n",
      "\u001b[1;31mNameError\u001b[0m: name 'a_price' is not defined"
     ]
    }
   ],
   "source": [
    "# the updated inventory class\n",
    "class inventory():\n",
    "    def __init__(self, csv_file):\n",
    "        self.id_to_row = {}\n",
    "        self.prices = set()\n",
    "        \n",
    "        with open(csv_file, encoding='utf-8') as file:\n",
    "            opened_file = csv.reader(file)\n",
    "            inventory = list(opened_file)\n",
    "            self.header = inventory[0]\n",
    "            self.rows = inventory[1:]\n",
    "            \n",
    "            for row in self.rows:\n",
    "                price = int(row[-1])\n",
    "                row[-1] = price\n",
    "                \n",
    "                # store data in dictionary\n",
    "                laptop_id = row[0]\n",
    "                self.id_to_row[laptop_id] = row\n",
    "                self.prices.add(price)\n",
    "        \n",
    "        self.rows_by_price = sorted(self.rows, key=lambda row: row[-1])\n",
    "          \n",
    "    def get_laptop_from_id(self, laptop_id):\n",
    "        for row in self.rows:\n",
    "            product_id = row[0]\n",
    "            \n",
    "            if laptop_id == product_id:\n",
    "                return row\n",
    "            \n",
    "        return None\n",
    "    \n",
    "    def get_laptop_from_id_faster(self, laptop_id):\n",
    "        if laptop_id in self.id_to_row:\n",
    "            return self.id_to_row[laptop_id]\n",
    "        else:\n",
    "            return None\n",
    "    \n",
    "    def check_promotion_dollars(self, dollars):\n",
    "        # check if a laptop cost the exact dollar amount\n",
    "        for row in self.rows:\n",
    "            price = row[-1]\n",
    "            if price == dollars:\n",
    "                return True\n",
    "        \n",
    "        # check if pairs of laptops add up to the dollar amount\n",
    "        amount = 0\n",
    "        for row in self.rows:\n",
    "            a_price = row[-1]\n",
    "            for row in self.rows:\n",
    "                b_price = row[-1]\n",
    "                if (a_price + b_price) == dollars:\n",
    "                    return True\n",
    "            \n",
    "        # return false if it is impossible to spend the specified dollar amount\n",
    "        return False\n",
    "    \n",
    "    def check_promotion_dollars_faster(self, dollars):\n",
    "        if dollars in self.prices:\n",
    "            return True\n",
    "        \n",
    "        for price in self.prices:\n",
    "            b_price = dollars - price\n",
    "            if b_price in self.prices:\n",
    "                return True\n",
    "            \n",
    "        return False\n",
    "\n",
    "    def find_first_laptop_more_expensive(self, price):\n",
    "        range_start = 0                                   \n",
    "        range_end = len(self.rows_by_price) - 1         \n",
    "        \n",
    "        while range_start < range_end:\n",
    "            range_middle = (range_end + range_start) // 2  \n",
    "            cur_price = self.rows_by_price[range_middle][-1]\n",
    "            if cur_price > price:                           \n",
    "                range_end = range_middle              \n",
    "            else:                                          \n",
    "                range_start = range_middle + 1\n",
    "                        \n",
    "        if self.rows_by_price[range_start][-1] <= target_price:                  \n",
    "            return -1     \n",
    "        \n",
    "        return range_start\n",
    "    \n",
    "# test budget method\n",
    "laptops = inventory('laptops.csv')\n",
    "\n",
    "index = laptops.find_first_laptop_more_expensive(1000) # answer: 683\n",
    "print(\"Expected Index: 683\", \"Returned Index:\", index)\n",
    "\n",
    "index = laptops.find_first_laptop_more_expensive(10000) # answer: 683\n",
    "print(\"Expected Index: -1\", \"Returned Index:\", index)"
   ]
  }
 ],
 "metadata": {
  "kernelspec": {
   "display_name": "Python 3",
   "language": "python",
   "name": "python3"
  },
  "language_info": {
   "codemirror_mode": {
    "name": "ipython",
    "version": 3
   },
   "file_extension": ".py",
   "mimetype": "text/x-python",
   "name": "python",
   "nbconvert_exporter": "python",
   "pygments_lexer": "ipython3",
   "version": "3.4.3"
  }
 },
 "nbformat": 4,
 "nbformat_minor": 2
}
