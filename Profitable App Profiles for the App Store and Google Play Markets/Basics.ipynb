{
 "cells": [
  {
   "cell_type": "markdown",
   "metadata": {},
   "source": [
    "# Analyzing Profitable Apps in the App Store and Google Play Store"
   ]
  },
  {
   "cell_type": "markdown",
   "metadata": {},
   "source": [
    "# Introduction"
   ]
  },
  {
   "cell_type": "markdown",
   "metadata": {},
   "source": [
    "The main objective for this project is to deduce which mobile apps from the two most popular app markets (App Store & Google Play Store) is profitable. For context, we are a data analyst for a company which specializes in developing IOS and Android apps and we are given the task of analysing the data to know which apps are worth making and which are not.\n",
    "\n",
    "All of the apps developed are free to install and therefore the revenue model we opted for is in-app ads and in-app purchases. Thus, it can be said that the more customers we have, the higher the revenue. So, this means that we must analyze the data to understand what types of apps result in the most amount of downloads in order to maximize revenue."
   ]
  },
  {
   "cell_type": "markdown",
   "metadata": {},
   "source": [
    "## Opening and Exploring the Data"
   ]
  },
  {
   "cell_type": "code",
   "execution_count": 2,
   "metadata": {
    "collapsed": false
   },
   "outputs": [
    {
     "name": "stdout",
     "output_type": "stream",
     "text": [
      "App Store - First 3 Rows\n",
      "['id', 'track_name', 'size_bytes', 'currency', 'price', 'rating_count_tot', 'rating_count_ver', 'user_rating', 'user_rating_ver', 'ver', 'cont_rating', 'prime_genre', 'sup_devices.num', 'ipadSc_urls.num', 'lang.num', 'vpp_lic']\n",
      "\n",
      "\n",
      "['284882215', 'Facebook', '389879808', 'USD', '0.0', '2974676', '212', '3.5', '3.5', '95.0', '4+', 'Social Networking', '37', '1', '29', '1']\n",
      "\n",
      "\n",
      "['389801252', 'Instagram', '113954816', 'USD', '0.0', '2161558', '1289', '4.5', '4.0', '10.23', '12+', 'Photo & Video', '37', '0', '29', '1']\n",
      "\n",
      "\n",
      "['529479190', 'Clash of Clans', '116476928', 'USD', '0.0', '2130805', '579', '4.5', '4.5', '9.24.12', '9+', 'Games', '38', '5', '18', '1']\n",
      "\n",
      "\n",
      "Number of rows: 7198\n",
      "Number of columns: 16\n",
      "\n"
     ]
    }
   ],
   "source": [
    "from csv import reader\n",
    "\n",
    "def explore_data(dataset, start, end, rows_and_columns=False):\n",
    "    dataset_slice = dataset[start:end]\n",
    "    for row in dataset_slice:\n",
    "        print(row)\n",
    "        print('\\n') # adds a new (empty) line after each row\n",
    "    \n",
    "    # display the number of rows and columns in the dataset\n",
    "    if rows_and_columns:\n",
    "        print('Number of rows:', len(dataset))\n",
    "        print('Number of columns:', len(dataset[0]))\n",
    "        \n",
    "# open the two datasets (AppleStore.csv & GooglePlayStore.csv)\n",
    "ios_store = open(\"AppleStore.csv\")\n",
    "ios_store = reader(ios_store)\n",
    "ios_content = list(ios_store)\n",
    "ios_header = ios_content[0]\n",
    "ios_data = ios_content[1:]\n",
    "\n",
    "android_store = open(\"googleplaystore.csv\")\n",
    "android_store = reader(android_store)\n",
    "android_content = list(android_store)\n",
    "android_header = android_content[0]\n",
    "android_data = android_content[1:]\n",
    "\n",
    "# display the first five rows the ios dataset\n",
    "print(\"App Store - First 3 Rows\")\n",
    "explore_data(ios_content, 0, 4, True)\n",
    "print(\"\")"
   ]
  },
  {
   "cell_type": "markdown",
   "metadata": {},
   "source": [
    "<b>Comment:</b> There are a few columns of interest in our App Store dataset that could help us with our objective and these are the ratings, genre and maybe even the currency."
   ]
  },
  {
   "cell_type": "code",
   "execution_count": 3,
   "metadata": {
    "collapsed": false
   },
   "outputs": [
    {
     "name": "stdout",
     "output_type": "stream",
     "text": [
      "Google Play Store - First 3 Rows\n",
      "['App', 'Category', 'Rating', 'Reviews', 'Size', 'Installs', 'Type', 'Price', 'Content Rating', 'Genres', 'Last Updated', 'Current Ver', 'Android Ver']\n",
      "\n",
      "\n",
      "['Photo Editor & Candy Camera & Grid & ScrapBook', 'ART_AND_DESIGN', '4.1', '159', '19M', '10,000+', 'Free', '0', 'Everyone', 'Art & Design', 'January 7, 2018', '1.0.0', '4.0.3 and up']\n",
      "\n",
      "\n",
      "['Coloring book moana', 'ART_AND_DESIGN', '3.9', '967', '14M', '500,000+', 'Free', '0', 'Everyone', 'Art & Design;Pretend Play', 'January 15, 2018', '2.0.0', '4.0.3 and up']\n",
      "\n",
      "\n",
      "['U Launcher Lite – FREE Live Cool Themes, Hide Apps', 'ART_AND_DESIGN', '4.7', '87510', '8.7M', '5,000,000+', 'Free', '0', 'Everyone', 'Art & Design', 'August 1, 2018', '1.2.4', '4.0.3 and up']\n",
      "\n",
      "\n",
      "Number of rows: 10842\n",
      "Number of columns: 13\n"
     ]
    }
   ],
   "source": [
    "# display the first five rows the android dataset\n",
    "print(\"Google Play Store - First 3 Rows\")\n",
    "explore_data(android_content, 0, 4, True)"
   ]
  },
  {
   "cell_type": "markdown",
   "metadata": {},
   "source": [
    "<b>Comment:</b> Here, we can see that there is several columns of interest that we can use to solve this problem. So, what we can probably deduce is that the genre, rating, type, category and the number of installs will play a huge role in the success of an app."
   ]
  },
  {
   "cell_type": "markdown",
   "metadata": {},
   "source": [
    "## Removing Wrong Data"
   ]
  },
  {
   "cell_type": "markdown",
   "metadata": {
    "collapsed": true
   },
   "source": [
    "We have been notified that there has been an error in one of the rows in the Google Play Dataset (i.e. Wrong rating for entry 10472). So, this means that it is our task to find and remove this row as it may alter the results of our analysis if kept in."
   ]
  },
  {
   "cell_type": "code",
   "execution_count": 4,
   "metadata": {
    "collapsed": false
   },
   "outputs": [
    {
     "name": "stdout",
     "output_type": "stream",
     "text": [
      "Google Play Dataset Header\n",
      "['App', 'Category', 'Rating', 'Reviews', 'Size', 'Installs', 'Type', 'Price', 'Content Rating', 'Genres', 'Last Updated', 'Current Ver', 'Android Ver']\n",
      "\n",
      "Entry 10472\n",
      "['Life Made WI-Fi Touchscreen Photo Frame', '1.9', '19', '3.0M', '1,000+', 'Free', '0', 'Everyone', '', 'February 11, 2018', '1.0.19', '4.0 and up']\n"
     ]
    }
   ],
   "source": [
    "print(\"Google Play Dataset Header\")\n",
    "print(android_header)\n",
    "print(\"\")\n",
    "\n",
    "print(\"Entry 10472\")\n",
    "print(android_data[10472])"
   ]
  },
  {
   "cell_type": "markdown",
   "metadata": {},
   "source": [
    "<b>Comment:</b> Looking at the 2nd column, which is the categories column, we have the value of '1.9' in the 10472th entry. This means that this row has invalid data in one of the columns and we have concluded that it is better to remove it entirely."
   ]
  },
  {
   "cell_type": "code",
   "execution_count": 5,
   "metadata": {
    "collapsed": false
   },
   "outputs": [
    {
     "name": "stdout",
     "output_type": "stream",
     "text": [
      "['osmino Wi-Fi: free WiFi', 'TOOLS', '4.2', '134203', '4.1M', '10,000,000+', 'Free', '0', 'Everyone', 'Tools', 'August 7, 2018', '6.06.14', '4.4 and up']\n"
     ]
    }
   ],
   "source": [
    "# remove the row from the Google Play Dataset\n",
    "del android_data[10472]\n",
    "\n",
    "# recheck to see if the row of data is still there (should be a new row)\n",
    "print(android_data[10472])"
   ]
  },
  {
   "cell_type": "markdown",
   "metadata": {},
   "source": [
    "## Removing Duplicate Entries\n",
    "Finding and removing duplicates is another data cleaning task we must do and according to some discussions, there have been several duplicates in the Google Play Dataset such as the following."
   ]
  },
  {
   "cell_type": "code",
   "execution_count": 6,
   "metadata": {
    "collapsed": false
   },
   "outputs": [
    {
     "name": "stdout",
     "output_type": "stream",
     "text": [
      "['Instagram', 'SOCIAL', '4.5', '66577313', 'Varies with device', '1,000,000,000+', 'Free', '0', 'Teen', 'Social', 'July 31, 2018', 'Varies with device', 'Varies with device']\n",
      "['Instagram', 'SOCIAL', '4.5', '66577446', 'Varies with device', '1,000,000,000+', 'Free', '0', 'Teen', 'Social', 'July 31, 2018', 'Varies with device', 'Varies with device']\n",
      "['Instagram', 'SOCIAL', '4.5', '66577313', 'Varies with device', '1,000,000,000+', 'Free', '0', 'Teen', 'Social', 'July 31, 2018', 'Varies with device', 'Varies with device']\n",
      "['Instagram', 'SOCIAL', '4.5', '66509917', 'Varies with device', '1,000,000,000+', 'Free', '0', 'Teen', 'Social', 'July 31, 2018', 'Varies with device', 'Varies with device']\n"
     ]
    }
   ],
   "source": [
    "# print the instagram duplicate entries\n",
    "for app in android_data:\n",
    "    app_name = app[0]\n",
    "    if app_name == \"Instagram\":\n",
    "        print(app)"
   ]
  },
  {
   "cell_type": "markdown",
   "metadata": {},
   "source": [
    "<b>Comment:</b> It looks like there is 5 Instgram entries for the Google Play Dataset and this will dilute the analysis, so it is best to check if there are any more duplicates present in the dataset. Our criterion for removing dduplicates will be based on the number of reviews (4th column), where the highest reviews row will be kept."
   ]
  },
  {
   "cell_type": "code",
   "execution_count": 8,
   "metadata": {
    "collapsed": false
   },
   "outputs": [
    {
     "name": "stdout",
     "output_type": "stream",
     "text": [
      "Number of unique android apps: 9659\n",
      "Number of duplicate android apps: 1181\n"
     ]
    }
   ],
   "source": [
    "# create two list to store the unique apps and duplicate apps\n",
    "unique_apps = []\n",
    "duplicate_apps = []\n",
    "\n",
    "for app in android_data:\n",
    "    app_name = app[0]\n",
    "    if app_name not in unique_apps:\n",
    "        unique_apps.append(app_name)\n",
    "    else:\n",
    "        duplicate_apps.append(app_name)\n",
    "        \n",
    "# show number of unique and duplicate app entries\n",
    "print(\"Number of unique android apps:\", len(unique_apps))\n",
    "print(\"Number of duplicate android apps:\", len(duplicate_apps))"
   ]
  },
  {
   "cell_type": "markdown",
   "metadata": {},
   "source": [
    "<b>Comment:</b> Here, we can see there is 1181 entries will duplicate app names and so we must remove them and keep the one with the highest number of reviews as that will most likely be the most up to date entry."
   ]
  },
  {
   "cell_type": "markdown",
   "metadata": {},
   "source": [
    "Now, we must keep track of each unique app entry and if they have duplicate entries, then we will save the one with the highest number of reviews and remove the rest."
   ]
  },
  {
   "cell_type": "code",
   "execution_count": 13,
   "metadata": {
    "collapsed": false
   },
   "outputs": [
    {
     "name": "stdout",
     "output_type": "stream",
     "text": [
      "Unique Apps: 9659\n",
      "Unique Dict: 9659\n"
     ]
    }
   ],
   "source": [
    "# keep track of the app name and the highest number of reviews for this app\n",
    "reviews_max = {}\n",
    "for app in android_data:\n",
    "    name = app[0]\n",
    "    n_reviews = int(app[3])\n",
    "    \n",
    "    if name in reviews_max and reviews_max[name] < n_reviews:\n",
    "        reviews_max[name] = n_reviews\n",
    "    elif name not in reviews_max:\n",
    "        reviews_max[name] = n_reviews\n",
    "\n",
    "# check if the length of unique keys is equal to the number of unique apps\n",
    "print(\"Unique Apps:\", len(unique_apps))\n",
    "print(\"Unique Dict:\", len(reviews_max.keys()))"
   ]
  },
  {
   "cell_type": "markdown",
   "metadata": {},
   "source": [
    "<b>Comment:</b> Now, we should make a clean android dataset with only the unique app entries with the highest number of reviews of each app."
   ]
  },
  {
   "cell_type": "code",
   "execution_count": 17,
   "metadata": {
    "collapsed": false
   },
   "outputs": [
    {
     "name": "stdout",
     "output_type": "stream",
     "text": [
      "Clean Android Dataset Apps: 9659\n"
     ]
    }
   ],
   "source": [
    "# make a cleanse version of the android dataset\n",
    "android_clean = [] # store cleaned dataset\n",
    "already_added = [] # store app names\n",
    "\n",
    "for app in android_data:\n",
    "    name = app[0]\n",
    "    n_reviews = int(app[3])\n",
    "    \n",
    "    if n_reviews == reviews_max[name] and name not in already_added:\n",
    "        android_clean.append(app)\n",
    "        already_added.append(name)\n",
    "        \n",
    "# display the length of the new android dataset to confirm that we have removed the duplicates\n",
    "print(\"Clean Android Dataset Apps:\", len(android_clean))"
   ]
  },
  {
   "cell_type": "markdown",
   "metadata": {},
   "source": [
    "## Removing Non-English Apps "
   ]
  },
  {
   "cell_type": "markdown",
   "metadata": {},
   "source": []
  }
 ],
 "metadata": {
  "kernelspec": {
   "display_name": "Python 3",
   "language": "python",
   "name": "python3"
  },
  "language_info": {
   "codemirror_mode": {
    "name": "ipython",
    "version": 3
   },
   "file_extension": ".py",
   "mimetype": "text/x-python",
   "name": "python",
   "nbconvert_exporter": "python",
   "pygments_lexer": "ipython3",
   "version": "3.4.3"
  }
 },
 "nbformat": 4,
 "nbformat_minor": 2
}
