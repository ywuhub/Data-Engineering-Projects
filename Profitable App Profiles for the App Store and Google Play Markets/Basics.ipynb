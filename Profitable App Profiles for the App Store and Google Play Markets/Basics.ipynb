{
 "cells": [
  {
   "cell_type": "markdown",
   "metadata": {},
   "source": [
    "# Analyzing Profitable Apps in the App Store and Google Play Store"
   ]
  },
  {
   "cell_type": "markdown",
   "metadata": {},
   "source": [
    "# Introduction"
   ]
  },
  {
   "cell_type": "markdown",
   "metadata": {},
   "source": [
    "The main objective for this project is to deduce which mobile apps from the two most popular app markets (App Store & Google Play Store) is profitable. For context, we are a data analyst for a company which specializes in developing IOS and Android apps and we are given the task of analysing the data to know which apps are worth making and which are not.\n",
    "\n",
    "All of the apps developed are free to install and therefore the revenue model we opted for is in-app ads and in-app purchases. Thus, it can be said that the more customers we have, the higher the revenue. So, this means that we must analyze the data to understand what types of apps result in the most amount of downloads in order to maximize revenue."
   ]
  },
  {
   "cell_type": "markdown",
   "metadata": {},
   "source": [
    "## Opening and Exploring the Data"
   ]
  },
  {
   "cell_type": "code",
   "execution_count": 1,
   "metadata": {
    "collapsed": false
   },
   "outputs": [
    {
     "name": "stdout",
     "output_type": "stream",
     "text": [
      "App Store - First 3 Rows\n",
      "['id', 'track_name', 'size_bytes', 'currency', 'price', 'rating_count_tot', 'rating_count_ver', 'user_rating', 'user_rating_ver', 'ver', 'cont_rating', 'prime_genre', 'sup_devices.num', 'ipadSc_urls.num', 'lang.num', 'vpp_lic']\n",
      "\n",
      "\n",
      "['284882215', 'Facebook', '389879808', 'USD', '0.0', '2974676', '212', '3.5', '3.5', '95.0', '4+', 'Social Networking', '37', '1', '29', '1']\n",
      "\n",
      "\n",
      "['389801252', 'Instagram', '113954816', 'USD', '0.0', '2161558', '1289', '4.5', '4.0', '10.23', '12+', 'Photo & Video', '37', '0', '29', '1']\n",
      "\n",
      "\n",
      "['529479190', 'Clash of Clans', '116476928', 'USD', '0.0', '2130805', '579', '4.5', '4.5', '9.24.12', '9+', 'Games', '38', '5', '18', '1']\n",
      "\n",
      "\n",
      "Number of rows: 7198\n",
      "Number of columns: 16\n",
      "\n"
     ]
    }
   ],
   "source": [
    "from csv import reader\n",
    "\n",
    "def explore_data(dataset, start, end, rows_and_columns=False):\n",
    "    dataset_slice = dataset[start:end]\n",
    "    for row in dataset_slice:\n",
    "        print(row)\n",
    "        print('\\n') # adds a new (empty) line after each row\n",
    "    \n",
    "    # display the number of rows and columns in the dataset\n",
    "    if rows_and_columns:\n",
    "        print('Number of rows:', len(dataset))\n",
    "        print('Number of columns:', len(dataset[0]))\n",
    "        \n",
    "# open the two datasets (AppleStore.csv & GooglePlayStore.csv)\n",
    "ios_store = open(\"AppleStore.csv\")\n",
    "ios_store = reader(ios_store)\n",
    "ios_content = list(ios_store)\n",
    "ios_header = ios_content[0]\n",
    "ios_data = ios_content[1:]\n",
    "\n",
    "android_store = open(\"googleplaystore.csv\")\n",
    "android_store = reader(android_store)\n",
    "android_content = list(android_store)\n",
    "android_header = android_content[0]\n",
    "android_data = android_content[1:]\n",
    "\n",
    "# display the first five rows the ios dataset\n",
    "print(\"App Store - First 3 Rows\")\n",
    "explore_data(ios_content, 0, 4, True)\n",
    "print(\"\")"
   ]
  },
  {
   "cell_type": "markdown",
   "metadata": {},
   "source": [
    "<b>Comment:</b> There are a few columns of interest in our App Store dataset that could help us with our objective and these are the ratings, genre and maybe even the currency."
   ]
  },
  {
   "cell_type": "code",
   "execution_count": 2,
   "metadata": {
    "collapsed": false
   },
   "outputs": [
    {
     "name": "stdout",
     "output_type": "stream",
     "text": [
      "Google Play Store - First 3 Rows\n",
      "['App', 'Category', 'Rating', 'Reviews', 'Size', 'Installs', 'Type', 'Price', 'Content Rating', 'Genres', 'Last Updated', 'Current Ver', 'Android Ver']\n",
      "\n",
      "\n",
      "['Photo Editor & Candy Camera & Grid & ScrapBook', 'ART_AND_DESIGN', '4.1', '159', '19M', '10,000+', 'Free', '0', 'Everyone', 'Art & Design', 'January 7, 2018', '1.0.0', '4.0.3 and up']\n",
      "\n",
      "\n",
      "['Coloring book moana', 'ART_AND_DESIGN', '3.9', '967', '14M', '500,000+', 'Free', '0', 'Everyone', 'Art & Design;Pretend Play', 'January 15, 2018', '2.0.0', '4.0.3 and up']\n",
      "\n",
      "\n",
      "['U Launcher Lite – FREE Live Cool Themes, Hide Apps', 'ART_AND_DESIGN', '4.7', '87510', '8.7M', '5,000,000+', 'Free', '0', 'Everyone', 'Art & Design', 'August 1, 2018', '1.2.4', '4.0.3 and up']\n",
      "\n",
      "\n",
      "Number of rows: 10842\n",
      "Number of columns: 13\n"
     ]
    }
   ],
   "source": [
    "# display the first five rows the android dataset\n",
    "print(\"Google Play Store - First 3 Rows\")\n",
    "explore_data(android_content, 0, 4, True)"
   ]
  },
  {
   "cell_type": "markdown",
   "metadata": {},
   "source": [
    "<b>Comment:</b> Here, we can see that there is several columns of interest that we can use to solve this problem. So, what we can probably deduce is that the genre, rating, type, category and the number of installs will play a huge role in the success of an app."
   ]
  },
  {
   "cell_type": "markdown",
   "metadata": {},
   "source": [
    "## Removing Wrong Data"
   ]
  },
  {
   "cell_type": "markdown",
   "metadata": {
    "collapsed": true
   },
   "source": [
    "We have been notified that there has been an error in one of the rows in the Google Play Dataset (i.e. Wrong rating for entry 10472). So, this means that it is our task to find and remove this row as it may alter the results of our analysis if kept in."
   ]
  },
  {
   "cell_type": "code",
   "execution_count": 3,
   "metadata": {
    "collapsed": false
   },
   "outputs": [
    {
     "name": "stdout",
     "output_type": "stream",
     "text": [
      "Google Play Dataset Header\n",
      "['App', 'Category', 'Rating', 'Reviews', 'Size', 'Installs', 'Type', 'Price', 'Content Rating', 'Genres', 'Last Updated', 'Current Ver', 'Android Ver']\n",
      "\n",
      "Entry 10472\n",
      "['Life Made WI-Fi Touchscreen Photo Frame', '1.9', '19', '3.0M', '1,000+', 'Free', '0', 'Everyone', '', 'February 11, 2018', '1.0.19', '4.0 and up']\n"
     ]
    }
   ],
   "source": [
    "print(\"Google Play Dataset Header\")\n",
    "print(android_header)\n",
    "print(\"\")\n",
    "\n",
    "print(\"Entry 10472\")\n",
    "print(android_data[10472])"
   ]
  },
  {
   "cell_type": "markdown",
   "metadata": {},
   "source": [
    "<b>Comment:</b> Looking at the 2nd column, which is the categories column, we have the value of '1.9' in the 10472th entry. This means that this row has invalid data in one of the columns and we have concluded that it is better to remove it entirely."
   ]
  },
  {
   "cell_type": "code",
   "execution_count": 4,
   "metadata": {
    "collapsed": false
   },
   "outputs": [
    {
     "name": "stdout",
     "output_type": "stream",
     "text": [
      "['osmino Wi-Fi: free WiFi', 'TOOLS', '4.2', '134203', '4.1M', '10,000,000+', 'Free', '0', 'Everyone', 'Tools', 'August 7, 2018', '6.06.14', '4.4 and up']\n"
     ]
    }
   ],
   "source": [
    "# remove the row from the Google Play Dataset\n",
    "del android_data[10472]\n",
    "\n",
    "# recheck to see if the row of data is still there (should be a new row)\n",
    "print(android_data[10472])"
   ]
  },
  {
   "cell_type": "markdown",
   "metadata": {},
   "source": [
    "## Removing Duplicate Entries\n",
    "Finding and removing duplicates is another data cleaning task we must do and according to some discussions, there have been several duplicates in the Google Play dataset such as the following."
   ]
  },
  {
   "cell_type": "code",
   "execution_count": 5,
   "metadata": {
    "collapsed": false
   },
   "outputs": [
    {
     "name": "stdout",
     "output_type": "stream",
     "text": [
      "['Instagram', 'SOCIAL', '4.5', '66577313', 'Varies with device', '1,000,000,000+', 'Free', '0', 'Teen', 'Social', 'July 31, 2018', 'Varies with device', 'Varies with device']\n",
      "['Instagram', 'SOCIAL', '4.5', '66577446', 'Varies with device', '1,000,000,000+', 'Free', '0', 'Teen', 'Social', 'July 31, 2018', 'Varies with device', 'Varies with device']\n",
      "['Instagram', 'SOCIAL', '4.5', '66577313', 'Varies with device', '1,000,000,000+', 'Free', '0', 'Teen', 'Social', 'July 31, 2018', 'Varies with device', 'Varies with device']\n",
      "['Instagram', 'SOCIAL', '4.5', '66509917', 'Varies with device', '1,000,000,000+', 'Free', '0', 'Teen', 'Social', 'July 31, 2018', 'Varies with device', 'Varies with device']\n"
     ]
    }
   ],
   "source": [
    "# print the instagram duplicate entries\n",
    "for app in android_data:\n",
    "    app_name = app[0]\n",
    "    if app_name == \"Instagram\":\n",
    "        print(app)"
   ]
  },
  {
   "cell_type": "markdown",
   "metadata": {},
   "source": [
    "<b>Comment:</b> It looks like there is 5 Instgram entries for the Google Play dataset and this will dilute the analysis, so it is best to check if there are any more duplicates present in the dataset. Our criterion for removing dduplicates will be based on the number of reviews (4th column), where the highest reviews row will be kept."
   ]
  },
  {
   "cell_type": "code",
   "execution_count": 6,
   "metadata": {
    "collapsed": false
   },
   "outputs": [
    {
     "name": "stdout",
     "output_type": "stream",
     "text": [
      "Number of unique android apps: 9659\n",
      "Number of duplicate android apps: 1181\n"
     ]
    }
   ],
   "source": [
    "# create two list to store the unique apps and duplicate apps\n",
    "unique_apps = []\n",
    "duplicate_apps = []\n",
    "\n",
    "for app in android_data:\n",
    "    app_name = app[0]\n",
    "    if app_name not in unique_apps:\n",
    "        unique_apps.append(app_name)\n",
    "    else:\n",
    "        duplicate_apps.append(app_name)\n",
    "        \n",
    "# show number of unique and duplicate app entries\n",
    "print(\"Number of unique android apps:\", len(unique_apps))\n",
    "print(\"Number of duplicate android apps:\", len(duplicate_apps))"
   ]
  },
  {
   "cell_type": "markdown",
   "metadata": {},
   "source": [
    "<b>Comment:</b> Here, we can see there is 1181 entries will duplicate app names and so we must remove them and keep the one with the highest number of reviews as that will most likely be the most up to date entry."
   ]
  },
  {
   "cell_type": "markdown",
   "metadata": {},
   "source": [
    "Now, we must keep track of each unique app entry and if they have duplicate entries, then we will save the one with the highest number of reviews and remove the rest."
   ]
  },
  {
   "cell_type": "code",
   "execution_count": 7,
   "metadata": {
    "collapsed": false
   },
   "outputs": [
    {
     "name": "stdout",
     "output_type": "stream",
     "text": [
      "Unique Apps: 9659\n",
      "Unique Dict: 9659\n"
     ]
    }
   ],
   "source": [
    "# keep track of the app name and the highest number of reviews for this app\n",
    "reviews_max = {}\n",
    "for app in android_data:\n",
    "    name = app[0]\n",
    "    n_reviews = int(app[3])\n",
    "    \n",
    "    if name in reviews_max and reviews_max[name] < n_reviews:\n",
    "        reviews_max[name] = n_reviews\n",
    "    elif name not in reviews_max:\n",
    "        reviews_max[name] = n_reviews\n",
    "\n",
    "# check if the length of unique keys is equal to the number of unique apps\n",
    "print(\"Unique Apps:\", len(unique_apps))\n",
    "print(\"Unique Dict:\", len(reviews_max.keys()))"
   ]
  },
  {
   "cell_type": "markdown",
   "metadata": {},
   "source": [
    "<b>Comment:</b> Now, we should make a clean android dataset with only the unique app entries with the highest number of reviews of each app."
   ]
  },
  {
   "cell_type": "code",
   "execution_count": 8,
   "metadata": {
    "collapsed": false
   },
   "outputs": [
    {
     "name": "stdout",
     "output_type": "stream",
     "text": [
      "Clean Android Dataset Apps: 9659\n"
     ]
    }
   ],
   "source": [
    "# make a cleanse version of the android dataset\n",
    "android_clean = [] # store cleaned dataset\n",
    "already_added = [] # store app names\n",
    "\n",
    "for app in android_data:\n",
    "    name = app[0]\n",
    "    n_reviews = int(app[3])\n",
    "    \n",
    "    if n_reviews == reviews_max[name] and name not in already_added:\n",
    "        android_clean.append(app)\n",
    "        already_added.append(name)\n",
    "        \n",
    "# display the length of the new android dataset to confirm that we have removed the duplicates\n",
    "print(\"Clean Android Dataset Apps:\", len(android_clean))"
   ]
  },
  {
   "cell_type": "markdown",
   "metadata": {},
   "source": [
    "## Removing Non-English Apps "
   ]
  },
  {
   "cell_type": "markdown",
   "metadata": {},
   "source": [
    "So, we should now take out the rows of data which has names of apps that are not in English. This is because our target market is free Android and IOS apps for English users only."
   ]
  },
  {
   "cell_type": "code",
   "execution_count": 9,
   "metadata": {
    "collapsed": false
   },
   "outputs": [],
   "source": [
    "# check if app name doesn't contain a set of common english characters\n",
    "# returns false if the app name has at least 3 characters that are non english\n",
    "def is_english(app_name):\n",
    "    non_english_chars = 0\n",
    "    for char in app_name:\n",
    "        # if the number associated with the character is > 127 then it is\n",
    "        # not a member of the set of common english characters\n",
    "        if ord(char) > 127:\n",
    "            non_english_chars += 1\n",
    "    \n",
    "    if non_english_chars >= 3:\n",
    "        return False\n",
    "    else:\n",
    "        return True"
   ]
  },
  {
   "cell_type": "markdown",
   "metadata": {},
   "source": [
    "Now, we have a function in place to remove app entries with a non english name, we can start to clean up the android dataset even further."
   ]
  },
  {
   "cell_type": "code",
   "execution_count": 10,
   "metadata": {
    "collapsed": false
   },
   "outputs": [
    {
     "name": "stdout",
     "output_type": "stream",
     "text": [
      "Unique English Android Apps: 9597\n"
     ]
    }
   ],
   "source": [
    "# go through the Google Play list and remove non english apps\n",
    "android_data = []\n",
    "for app in android_clean:\n",
    "    app_name = app[0]\n",
    "    \n",
    "    if is_english(app_name):\n",
    "        android_data.append(app)\n",
    "    \n",
    "# display the new number of rows for the cleaner android dataset\n",
    "print(\"Unique English Android Apps:\", len(android_data))"
   ]
  },
  {
   "cell_type": "markdown",
   "metadata": {},
   "source": [
    "<b>Comment:</b> So, it is clear from above that we have remove 62 entries as they were non english apps and now we should focus on filter the list even further to find the apps that are free (our target market)."
   ]
  },
  {
   "cell_type": "markdown",
   "metadata": {},
   "source": [
    "## Isolating the Free Apps"
   ]
  },
  {
   "cell_type": "markdown",
   "metadata": {},
   "source": [
    "This will be a very similar process to above, but instead we focus on the app's price and get the android apps that cost nothing and put them into a new list. The 7th column of the android dataset should have whether the app is free or paid and we can use this as the filter."
   ]
  },
  {
   "cell_type": "code",
   "execution_count": 11,
   "metadata": {
    "collapsed": false
   },
   "outputs": [
    {
     "name": "stdout",
     "output_type": "stream",
     "text": [
      "Number of free android apps: 8847\n"
     ]
    }
   ],
   "source": [
    "# store free android apps in new list\n",
    "free_android_apps = []\n",
    "\n",
    "for app in android_data:\n",
    "    app_type = app[6] # either Free or Paid\n",
    "    \n",
    "    if app_type == \"Free\":\n",
    "        free_android_apps.append(app)\n",
    "    \n",
    "# display the number of free apps\n",
    "print(\"Number of free android apps:\", len(free_android_apps))"
   ]
  },
  {
   "cell_type": "markdown",
   "metadata": {},
   "source": [
    "## Data Analysis "
   ]
  },
  {
   "cell_type": "markdown",
   "metadata": {},
   "source": [
    "Our goal was to determine the kind of free apps that will attract more users as our revenue model relies on in-app advertisements. So, in order to minimise future risks and overhead, we can create a validation strategy by doing the following:\n",
    "\n",
    "1. Build a minimal Android version of the app, and add it to Google Play.\n",
    "2. If the app has a good response from users, we develop it further.\n",
    "3. If the app is profitable after six months, we build an iOS version of the app and add it to the App Store.\n",
    "\n",
    "Here, we want to find apps that are successful on both app markets. Thus, we must get an idea of the types of genres that attract the most users and this will mean we have to use a frequency table. A good candidate column for the Google Play dataset would be the Genres/Category columns of the Google Play dataset and the prime_genre column in the App Store dataset.\n",
    "\n",
    "We'll build two functions we can use to analyze the frequency tables:\n",
    "\n",
    "* One function to generate frequency tables that show percentages\n",
    "* Another function that we can use to display the percentages in a descending order"
   ]
  },
  {
   "cell_type": "code",
   "execution_count": 14,
   "metadata": {
    "collapsed": true
   },
   "outputs": [],
   "source": [
    "# function to generate freq_table\n",
    "def freq_table(dataset, index):\n",
    "    ftable = {}\n",
    "    \n",
    "    for app in dataset:\n",
    "        col = app[index]\n",
    "        if col in ftable:\n",
    "            ftable[col] += 1\n",
    "        else:\n",
    "            ftable[col] = 1\n",
    "            \n",
    "    for key in ftable:\n",
    "        ftable[key] = ftable[key] / len(dataset)\n",
    "        \n",
    "    return ftable\n",
    "\n",
    "# display frequency table\n",
    "def display_table(dataset, index):\n",
    "    table = freq_table(dataset, index)\n",
    "    table_display = []\n",
    "    for key in table:\n",
    "        key_val_as_tuple = (table[key], key)\n",
    "        table_display.append(key_val_as_tuple)\n",
    "\n",
    "    table_sorted = sorted(table_display, reverse = True)\n",
    "    for entry in table_sorted:\n",
    "        print(entry[1], ':', entry[0])"
   ]
  },
  {
   "cell_type": "markdown",
   "metadata": {},
   "source": [
    "Now, we should display the frequncy tables of the columns prime_genre (App Store dataset), Genres and Category (Google Play dataset) to get an idea of the most popular categories."
   ]
  },
  {
   "cell_type": "code",
   "execution_count": 17,
   "metadata": {
    "collapsed": false
   },
   "outputs": [
    {
     "name": "stdout",
     "output_type": "stream",
     "text": [
      "Games : 0.5366124774211477\n",
      "Entertainment : 0.07433652910935112\n",
      "Education : 0.06294289287203002\n",
      "Photo & Video : 0.04849242740030568\n",
      "Utilities : 0.034458802278727246\n",
      "Health & Fitness : 0.02501042100875365\n",
      "Productivity : 0.024732527441989716\n",
      "Social Networking : 0.023204112824788105\n",
      "Lifestyle : 0.020008336807002917\n",
      "Music : 0.01917465610671113\n",
      "Shopping : 0.016951507572599694\n",
      "Sports : 0.015839933305543976\n",
      "Book : 0.015562039738780047\n",
      "Finance : 0.014450465471724329\n",
      "Travel : 0.011254689453939141\n",
      "News : 0.010421008753647354\n",
      "Weather : 0.010004168403501459\n",
      "Reference : 0.008892594136445742\n",
      "Food & Drink : 0.008753647353063776\n",
      "Business : 0.007919966652771988\n",
      "Navigation : 0.0063915520355703765\n",
      "Medical : 0.0031957760177851883\n",
      "Catalogs : 0.0013894678338196471\n"
     ]
    }
   ],
   "source": [
    "# prime_genre frequency table\n",
    "display_table(ios_data, 11)"
   ]
  },
  {
   "cell_type": "markdown",
   "metadata": {},
   "source": [
    "<b>Comment:</b> From the App Store dataset, we can see the most common genre is Games then followed by the Entertainment genre of ios apps. It definitely seems that the most successful genres cater towards the younger generations because the latter genres such as Weather or Business are less popular and would be more inclined to be downloaded by older audiances.\n",
    "\n",
    "Also, we can see that the most popular genres are more for entertainment (i.e games, entertainment and social networking) rather than pratical (food & drink, medical or finance).\n",
    "\n",
    "Thus, the recommended app genre to focus on in the App Store would be to make a game or any of those that entertain the user rather than make them more productive. Despite games being the clear winner in terms of users, it also means there is an abundance of competitors, so it is better to focus on the next few genres."
   ]
  },
  {
   "cell_type": "code",
   "execution_count": 20,
   "metadata": {
    "collapsed": false
   },
   "outputs": [
    {
     "name": "stdout",
     "output_type": "stream",
     "text": [
      "Tools : 0.08596436386370741\n",
      "Entertainment : 0.058038970511618215\n",
      "Education : 0.05241221214963009\n",
      "Business : 0.04365947691987079\n",
      "Medical : 0.04115869542565385\n",
      "Personalization : 0.03907471084713973\n",
      "Productivity : 0.03886631238928832\n",
      "Lifestyle : 0.03761592164217985\n",
      "Finance : 0.035948733979368555\n",
      "Sports : 0.03438574554548297\n",
      "Communication : 0.03261435865374596\n",
      "Action : 0.031051370219860375\n",
      "Health & Fitness : 0.030009377930603313\n",
      "Photography : 0.029175784099197667\n",
      "News & Magazines : 0.025945608002500783\n",
      "Social : 0.02490361571324372\n",
      "Travel & Local : 0.0227154319058039\n",
      "Books & Reference : 0.02261123267687819\n",
      "Shopping : 0.020944045014066895\n",
      "Simulation : 0.01979785349588413\n",
      "Arcade : 0.019068458893404187\n",
      "Dating : 0.01771386891737001\n",
      "Casual : 0.017192872772741483\n",
      "Video Players & Editors : 0.016776075857038657\n",
      "Maps & Navigation : 0.01333750130249036\n",
      "Puzzle : 0.012399708242159009\n",
      "Food & Drink : 0.011670313639679067\n",
      "Role Playing : 0.010836719808273419\n",
      "Strategy : 0.009794727519016359\n",
      "Racing : 0.009482129832239242\n",
      "Libraries & Demo : 0.0087527352297593\n",
      "Auto & Vehicles : 0.0087527352297593\n",
      "Weather : 0.008127539856205065\n",
      "House & Home : 0.007398145253725123\n",
      "Adventure : 0.007398145253725123\n",
      "Events : 0.00666875065124518\n",
      "Art & Design : 0.005835156819839533\n",
      "Comics : 0.005522559133062415\n",
      "Beauty : 0.005522559133062415\n",
      "Card : 0.0048973637595081795\n",
      "Parenting : 0.004793164530582474\n",
      "Board : 0.00437636761487965\n",
      "Educational;Education : 0.003959570699176826\n",
      "Casino : 0.003959570699176826\n",
      "Trivia : 0.00385537147025112\n",
      "Educational : 0.00385537147025112\n",
      "Education;Education : 0.0036469730123997084\n",
      "Casual;Pretend Play : 0.002604980723142649\n",
      "Word : 0.002396582265291237\n",
      "Music : 0.001979785349588413\n",
      "Puzzle;Brain Games : 0.001771386891737001\n",
      "Education;Pretend Play : 0.001771386891737001\n",
      "Racing;Action & Adventure : 0.001667187662811295\n",
      "Entertainment;Music & Video : 0.0015629884338855893\n",
      "Board;Brain Games : 0.0014587892049598833\n",
      "Arcade;Action & Adventure : 0.0014587892049598833\n",
      "Educational;Pretend Play : 0.0013545899760341773\n",
      "Casual;Action & Adventure : 0.0013545899760341773\n",
      "Casual;Brain Games : 0.0012503907471084713\n",
      "Action;Action & Adventure : 0.0012503907471084713\n",
      "Simulation;Action & Adventure : 0.0007293946024799417\n",
      "Parenting;Education : 0.0007293946024799417\n",
      "Entertainment;Brain Games : 0.0007293946024799417\n",
      "Parenting;Music & Video : 0.0006251953735542357\n",
      "Educational;Brain Games : 0.0006251953735542357\n",
      "Education;Creativity : 0.0006251953735542357\n",
      "Casual;Creativity : 0.0006251953735542357\n",
      "Art & Design;Creativity : 0.0006251953735542357\n",
      "Educational;Creativity : 0.0005209961446285298\n",
      "Adventure;Action & Adventure : 0.0005209961446285298\n",
      "Sports;Action & Adventure : 0.0004167969157028238\n",
      "Role Playing;Pretend Play : 0.0004167969157028238\n",
      "Role Playing;Action & Adventure : 0.0004167969157028238\n",
      "Education;Brain Games : 0.0004167969157028238\n",
      "Education;Action & Adventure : 0.0004167969157028238\n",
      "Simulation;Pretend Play : 0.00031259768677711783\n",
      "Simulation;Education : 0.00031259768677711783\n",
      "Puzzle;Action & Adventure : 0.00031259768677711783\n",
      "Music;Music & Video : 0.00031259768677711783\n",
      "Entertainment;Creativity : 0.00031259768677711783\n",
      "Entertainment;Action & Adventure : 0.00031259768677711783\n",
      "Educational;Action & Adventure : 0.00031259768677711783\n",
      "Education;Music & Video : 0.00031259768677711783\n",
      "Casual;Education : 0.00031259768677711783\n",
      "Board;Action & Adventure : 0.00031259768677711783\n",
      "Video Players & Editors;Music & Video : 0.0002083984578514119\n",
      "Strategy;Action & Adventure : 0.0002083984578514119\n",
      "Puzzle;Creativity : 0.0002083984578514119\n",
      "Entertainment;Pretend Play : 0.0002083984578514119\n",
      "Card;Action & Adventure : 0.0002083984578514119\n",
      "Books & Reference;Education : 0.0002083984578514119\n",
      "Video Players & Editors;Creativity : 0.00010419922892570594\n",
      "Trivia;Education : 0.00010419922892570594\n",
      "Travel & Local;Action & Adventure : 0.00010419922892570594\n",
      "Tools;Education : 0.00010419922892570594\n",
      "Strategy;Education : 0.00010419922892570594\n",
      "Strategy;Creativity : 0.00010419922892570594\n",
      "Role Playing;Education : 0.00010419922892570594\n",
      "Role Playing;Brain Games : 0.00010419922892570594\n",
      "Racing;Pretend Play : 0.00010419922892570594\n",
      "Puzzle;Education : 0.00010419922892570594\n",
      "Parenting;Brain Games : 0.00010419922892570594\n",
      "Music & Audio;Music & Video : 0.00010419922892570594\n",
      "Lifestyle;Pretend Play : 0.00010419922892570594\n",
      "Lifestyle;Education : 0.00010419922892570594\n",
      "Health & Fitness;Education : 0.00010419922892570594\n",
      "Health & Fitness;Action & Adventure : 0.00010419922892570594\n",
      "Entertainment;Education : 0.00010419922892570594\n",
      "Communication;Creativity : 0.00010419922892570594\n",
      "Comics;Creativity : 0.00010419922892570594\n",
      "Casual;Music & Video : 0.00010419922892570594\n",
      "Books & Reference;Creativity : 0.00010419922892570594\n",
      "Board;Pretend Play : 0.00010419922892570594\n",
      "Art & Design;Pretend Play : 0.00010419922892570594\n",
      "Art & Design;Action & Adventure : 0.00010419922892570594\n",
      "Arcade;Pretend Play : 0.00010419922892570594\n",
      "Adventure;Education : 0.00010419922892570594\n",
      "Adventure;Brain Games : 0.00010419922892570594\n"
     ]
    }
   ],
   "source": [
    "# Genres frequency table\n",
    "display_table(android_data, 9)"
   ]
  },
  {
   "cell_type": "markdown",
   "metadata": {},
   "source": [
    "<b>Comment:</b> The most popular Genres in the Google Play dataset seems to be the Entertainment apps. But, there also seems to be alot more genres than the App Store one, maybe because this one is more specific whereas the other was more broad for each app categorisation.\n",
    "\n",
    "The most popular genres seem to be the opposite of the App Store one as it shows there is more demand for practical and productive apps rather than for entertainment apps."
   ]
  },
  {
   "cell_type": "code",
   "execution_count": 21,
   "metadata": {
    "collapsed": false
   },
   "outputs": [
    {
     "name": "stdout",
     "output_type": "stream",
     "text": [
      "FAMILY : 0.19360216734396166\n",
      "GAME : 0.0979472751901636\n",
      "TOOLS : 0.08606856309263311\n",
      "BUSINESS : 0.04365947691987079\n",
      "MEDICAL : 0.04115869542565385\n",
      "PERSONALIZATION : 0.03907471084713973\n",
      "PRODUCTIVITY : 0.03886631238928832\n",
      "LIFESTYLE : 0.03772012087110555\n",
      "FINANCE : 0.035948733979368555\n",
      "SPORTS : 0.03376055017192873\n",
      "COMMUNICATION : 0.03261435865374596\n",
      "HEALTH_AND_FITNESS : 0.030009377930603313\n",
      "PHOTOGRAPHY : 0.029175784099197667\n",
      "NEWS_AND_MAGAZINES : 0.025945608002500783\n",
      "SOCIAL : 0.02490361571324372\n",
      "TRAVEL_AND_LOCAL : 0.022819631134729602\n",
      "BOOKS_AND_REFERENCE : 0.02261123267687819\n",
      "SHOPPING : 0.020944045014066895\n",
      "DATING : 0.01771386891737001\n",
      "VIDEO_PLAYERS : 0.01698447431489007\n",
      "MAPS_AND_NAVIGATION : 0.01333750130249036\n",
      "FOOD_AND_DRINK : 0.011670313639679067\n",
      "EDUCATION : 0.01104511826612483\n",
      "ENTERTAINMENT : 0.009065332916536417\n",
      "LIBRARIES_AND_DEMO : 0.0087527352297593\n",
      "AUTO_AND_VEHICLES : 0.0087527352297593\n",
      "WEATHER : 0.008127539856205065\n",
      "HOUSE_AND_HOME : 0.007398145253725123\n",
      "EVENTS : 0.00666875065124518\n",
      "PARENTING : 0.006251953735542357\n",
      "ART_AND_DESIGN : 0.006251953735542357\n",
      "COMICS : 0.005626758361988122\n",
      "BEAUTY : 0.005522559133062415\n"
     ]
    }
   ],
   "source": [
    "# Category frequency table\n",
    "display_table(android_data, 1)"
   ]
  },
  {
   "cell_type": "markdown",
   "metadata": {},
   "source": [
    "<b>Comment:</b> The most popular Category in the Google Play dataset is the family apps followed by Games. It seems that the Genres and Category column in the Google Play dataset show different popular app categorisations but that maybe that the genres are more specific whereas the categories are more broad."
   ]
  },
  {
   "cell_type": "markdown",
   "metadata": {},
   "source": [
    "<b>Conclusion:</b> Therefore, the most optimal apps to develop for the App Store would be any app that is considered fun such as games or social apps. On the otherhand, the Google Play stores most successful genres are more balanced between productivity and entertainment apps. This gives a rough idea of the types of apps that we should develop to maximise our profits and customer base."
   ]
  },
  {
   "cell_type": "markdown",
   "metadata": {},
   "source": [
    "## Most Popular Apps by Genre on the App Store"
   ]
  },
  {
   "cell_type": "markdown",
   "metadata": {},
   "source": [
    "To quantitatively show which genre is the most successful (has the most users), we must calculate the average number of installs for each app genre. \n",
    "\n",
    "For the Google Play data set, we can find this information in the Installs column, but this information is missing for the App Store data set. As a workaround, we'll take the total number of user ratings as a proxy, which we can find in the rating_count_tot app.\n",
    "\n",
    "Let's start with calculating the average number of user ratings per app genre on the App Store. To do that, we'll need to:\n",
    "\n",
    "- Isolate the apps of each genre.\n",
    "- Sum up the user ratings for the apps of that genre.\n",
    "- Divide the sum by the number of apps belonging to that genre (not by the total number of apps). "
   ]
  },
  {
   "cell_type": "code",
   "execution_count": 32,
   "metadata": {
    "collapsed": false
   },
   "outputs": [
    {
     "name": "stdout",
     "output_type": "stream",
     "text": [
      "Genre: Social Networking | Average Number of User Ratings: 45498.89820359281\n"
     ]
    }
   ],
   "source": [
    "# generate freq table for the prime_genre column to get the unique app genres\n",
    "freq_genre = freq_table(ios_data, 11)\n",
    "\n",
    "# display the average number of user ratings per app genre for the App Store\n",
    "best_genre = \"\"\n",
    "best_avg_number = 0\n",
    "for genre in freq_genre.keys():\n",
    "    total = 0 # store the sum of the user ratings\n",
    "    len_genre = 0 # store the number of apps specific to that genre\n",
    "    \n",
    "    for app in ios_data:\n",
    "        genre_app = app[11]\n",
    "        \n",
    "        if genre == genre_app:\n",
    "            n_user_ratings = float(app[5])\n",
    "            total += n_user_ratings\n",
    "            len_genre += 1\n",
    "    \n",
    "    avg_user_ratings = total / len_genre\n",
    "    \n",
    "    # check if this genre has the best average number of ratings\n",
    "    if avg_user_ratings > best_avg_number:\n",
    "        best_genre = genre\n",
    "        best_avg_number = avg_user_ratings\n",
    "\n",
    "# display the app genre with the highest average number of user ratings\n",
    "print(\"Genre:\", best_genre, \"| Average Number of User Ratings:\", best_avg_number)"
   ]
  },
  {
   "cell_type": "markdown",
   "metadata": {},
   "source": [
    "<b>Conclusion:</b> From above, we can see that the app genre with the most average number of users is the apps in the social networking genre. But, as we know, this sector is heavily skewered towards to social behemoths that is Youtube, Instagram, Facebook and Twitter. Thus, it will require us to target a smaller niche in the social network genre to get a slice of the marketshare but when we do, we should gain a decent following."
   ]
  },
  {
   "cell_type": "markdown",
   "metadata": {},
   "source": [
    "## Most Popular Apps by Genre on Google Play"
   ]
  },
  {
   "cell_type": "markdown",
   "metadata": {},
   "source": [
    "Now that we have made a app genre recommendation We have data about the number of installs for the Google Play market, so we should be able to get a clearer picture about genre popularity. However, the install numbers don't seem precise enough — we can see that most values are open-ended (100+, 1,000+, 5,000+, etc.)\n",
    "\n",
    "For instance, we don't know whether an app with 100,000+ installs has 100,000 installs, 200,000, or 350,000. However, we don't need very precise data for our purposes — we only want to find out which app genres attract the most users, and we don't need perfect precision with respect to the number of users.\n",
    "\n",
    "We're going to leave the numbers as they are, which means that we'll consider that an app with 100,000+ installs has 100,000 installs, and an app with 1,000,000+ installs has 1,000,000 installs, and so on."
   ]
  },
  {
   "cell_type": "code",
   "execution_count": 48,
   "metadata": {
    "collapsed": false
   },
   "outputs": [
    {
     "name": "stdout",
     "output_type": "stream",
     "text": [
      "Category: COMMUNICATION ||| Average Number of Installs: 35266026\n"
     ]
    }
   ],
   "source": [
    "# generate a frequency table for the Category column in the Google Play dataset\n",
    "freq_category = freq_table(android_data, 1)\n",
    "\n",
    "# loop over the unique genres and get the average number of install per app genre\n",
    "best_category = \"\"\n",
    "best_avg = 0\n",
    "for category in freq_category.keys():\n",
    "    total = 0\n",
    "    len_category = 0\n",
    "    \n",
    "    for app in android_data:\n",
    "        category_app = app[1]\n",
    "        \n",
    "        if category == category_app:\n",
    "            # remove non numeric chars from the installs value\n",
    "            n_installs = app[5]\n",
    "            n_installs = n_installs.replace('+', '')\n",
    "            n_installs = n_installs.replace(',', '')\n",
    "            n_installs = float(n_installs)\n",
    "            \n",
    "            total += n_installs\n",
    "            len_category += 1\n",
    "\n",
    "    avg_number_installs = total / len_category\n",
    "         \n",
    "    # set this category as the best if the average number of installs is the max\n",
    "    if avg_number_installs > best_avg:\n",
    "        best_category = category\n",
    "        best_avg = avg_number_installs   \n",
    "        \n",
    "print(\"Category:\", best_category, \"||| Average Number of Installs:\", int(best_avg))"
   ]
  },
  {
   "cell_type": "markdown",
   "metadata": {},
   "source": [
    "<b>Conclusion:</b> So, we can see the the best category to develop an app in on the Google Play store is communication apps. This is because it has on average over 35 million installs per app which makes sense consider that we are using our phones more than ever to communicate. The possible reason for this maybe because most of the installs will be only for a few apps such as Facebook or I"
   ]
  }
 ],
 "metadata": {
  "kernelspec": {
   "display_name": "Python 3",
   "language": "python",
   "name": "python3"
  },
  "language_info": {
   "codemirror_mode": {
    "name": "ipython",
    "version": 3
   },
   "file_extension": ".py",
   "mimetype": "text/x-python",
   "name": "python",
   "nbconvert_exporter": "python",
   "pygments_lexer": "ipython3",
   "version": "3.4.3"
  }
 },
 "nbformat": 4,
 "nbformat_minor": 2
}
