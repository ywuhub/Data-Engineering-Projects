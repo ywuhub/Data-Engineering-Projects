{
 "cells": [
  {
   "cell_type": "markdown",
   "metadata": {},
   "source": [
    "# Building a Database for Crime Reports"
   ]
  },
  {
   "cell_type": "markdown",
   "metadata": {},
   "source": [
    "In this project, we will put everything together to build a database for storing data related with crimes that occurred in Boston. This dataset is available in the file boston.csv.\n",
    "\n",
    "The goal of this project is for us to create a database named crimes_db with a table – boston_crimes – with appropriate datatypes for storing the data from the boston.csv file. \n",
    "\n",
    "We will be creating the table inside a schema named crimes. We will also create the readonly and readwrite groups with the appropriate privileges as we have discussed in this course. Finally, we will also need to create one user for each of these groups."
   ]
  }
 ],
 "metadata": {
  "kernelspec": {
   "display_name": "Python 3",
   "language": "python",
   "name": "python3"
  },
  "language_info": {
   "codemirror_mode": {
    "name": "ipython",
    "version": 3
   },
   "file_extension": ".py",
   "mimetype": "text/x-python",
   "name": "python",
   "nbconvert_exporter": "python",
   "pygments_lexer": "ipython3",
   "version": "3.4.3"
  }
 },
 "nbformat": 4,
 "nbformat_minor": 2
}
