{
 "cells": [
  {
   "cell_type": "markdown",
   "metadata": {
    "collapsed": true
   },
   "source": [
    "# Exploring Hacker News Posts\n"
   ]
  },
  {
   "cell_type": "markdown",
   "metadata": {},
   "source": [
    "## Introduction "
   ]
  },
  {
   "cell_type": "markdown",
   "metadata": {},
   "source": [
    "Hacker News is a site started by the startup incubator Y Combinator, where user-submitted stories (known as \"posts\") are voted and commented upon, similar to reddit. Hacker News is extremely popular in technology and startup circles, and posts that make it to the top of Hacker News' listings can get hundreds of thousands of visitors as a result."
   ]
  },
  {
   "cell_type": "markdown",
   "metadata": {},
   "source": [
    "## Data Columns "
   ]
  },
  {
   "cell_type": "markdown",
   "metadata": {},
   "source": [
    "Below are descriptions of the columns:\n",
    "\n",
    "* id: The unique identifier from Hacker News for the post\n",
    "* title: The title of the post\n",
    "* url: The URL that the posts links to, if it the post has a URL\n",
    "* num_points: The number of points the post acquired, calculated as the total number of upvotes minus the total number of downvotes\n",
    "* num_comments: The number of comments that were made on the post\n",
    "* author: The username of the person who submitted the post\n",
    "* created_at: The date and time at which the post was submitted"
   ]
  },
  {
   "cell_type": "markdown",
   "metadata": {},
   "source": [
    "## Objective "
   ]
  },
  {
   "cell_type": "markdown",
   "metadata": {},
   "source": [
    "We're specifically interested in posts whose titles begin with either Ask HN or Show HN. Users submit Ask HN posts to ask the Hacker News community a specific question. Below are a couple examples:\n",
    "\n",
    "- Ask HN: How to improve my personal website?\n",
    "- Ask HN: Am I the only one outraged by Twitter shutting down share counts?\n",
    "- Ask HN: Aby recent changes to CSS that broke mobile?\n",
    "\n",
    "Likewise, users submit Show HN posts to show the Hacker News community a project, product, or just generally something interesting. Below are a couple of examples:\n",
    "\n",
    "- Show HN: Wio Link  ESP8266 Based Web of Things Hardware Development Platform'\n",
    "- Show HN: Something pointless I made\n",
    "- Show HN: Shanhu.io, a programming playground powered by e8vm\n",
    "\n",
    "We'll compare these two types of posts to determine the following:\n",
    "\n",
    "1. Do Ask HN or Show HN receive more comments on average?\n",
    "2. Do posts created at a certain time receive more comments on average?"
   ]
  },
  {
   "cell_type": "markdown",
   "metadata": {},
   "source": [
    "## Removing Headers from a List of Lists"
   ]
  },
  {
   "cell_type": "markdown",
   "metadata": {},
   "source": [
    "First, we should read in the hacker_news.csv file as a list of lists and seperate the header from the rest of the data."
   ]
  },
  {
   "cell_type": "code",
   "execution_count": 4,
   "metadata": {
    "collapsed": false
   },
   "outputs": [
    {
     "name": "stdout",
     "output_type": "stream",
     "text": [
      "['id', 'title', 'url', 'num_points', 'num_comments', 'author', 'created_at'] \n",
      "\n",
      "['10975351', 'How to Use Open Source and Shut the Fuck Up at the Same Time', 'http://hueniverse.com/2016/01/26/how-to-use-open-source-and-shut-the-fuck-up-at-the-same-time/', '39', '10', 'josep2', '1/26/2016 19:30'] \n",
      "\n",
      "['11964716', \"Florida DJs May Face Felony for April Fools' Water Joke\", 'http://www.thewire.com/entertainment/2013/04/florida-djs-april-fools-water-joke/63798/', '2', '1', 'vezycash', '6/23/2016 22:20'] \n",
      "\n",
      "['11919867', 'Technology ventures: From Idea to Enterprise', 'https://www.amazon.com/Technology-Ventures-Enterprise-Thomas-Byers/dp/0073523429', '3', '1', 'hswarna', '6/17/2016 0:01'] \n",
      "\n"
     ]
    }
   ],
   "source": [
    "# read in the csv file\n",
    "from csv import reader\n",
    "open_file = open('hacker_news.csv')\n",
    "read_file = reader(open_file)\n",
    "hn = list(read_file)\n",
    "open_file.close()\n",
    "\n",
    "# seperate the header and the data\n",
    "header = hn[0]\n",
    "data = hn[1:]\n",
    "\n",
    "# display the first 3 rows and the header\n",
    "print(header, \"\\n\")\n",
    "print(data[1], \"\\n\")\n",
    "print(data[2], \"\\n\")\n",
    "print(data[3], \"\\n\")"
   ]
  },
  {
   "cell_type": "markdown",
   "metadata": {},
   "source": [
    "## Extracting Ask HN and Show HN Posts"
   ]
  },
  {
   "cell_type": "markdown",
   "metadata": {},
   "source": [
    "Now that we've removed the headers from hn, we're ready to filter our data. Since we're only concerned with post titles beginning with Ask HN or Show HN, we'll create new lists of lists containing just the data for those titles."
   ]
  },
  {
   "cell_type": "code",
   "execution_count": 10,
   "metadata": {
    "collapsed": false
   },
   "outputs": [
    {
     "name": "stdout",
     "output_type": "stream",
     "text": [
      "Number of Ask Posts: 1744\n",
      "Number of Show Posts: 1162\n",
      "Number of Other Posts: 17195\n"
     ]
    }
   ],
   "source": [
    "# seperate the posts into 3 categories ask posts, show posts and other posts\n",
    "ask_posts, show_posts, other_posts = [], [], []\n",
    "\n",
    "for row in hn:\n",
    "    title = row[1]\n",
    "    \n",
    "    if title.lower().startswith('ask hn'):\n",
    "        ask_posts.append(row)\n",
    "    elif title.lower().startswith('show hn'):\n",
    "        show_posts.append(row)\n",
    "    else:\n",
    "        other_posts.append(row)\n",
    "        \n",
    "# check the length of each list to see the quantity of each post type\n",
    "print(\"Number of Ask Posts:\", len(ask_posts))\n",
    "print(\"Number of Show Posts:\", len(show_posts))\n",
    "print(\"Number of Other Posts:\", len(other_posts))"
   ]
  },
  {
   "cell_type": "markdown",
   "metadata": {},
   "source": [
    "## Calculating the Average Number of Comments for Ask HN and Show HN Posts "
   ]
  },
  {
   "cell_type": "markdown",
   "metadata": {},
   "source": [
    "Here, let us determine if either the ask posts or show posts receive more comments on average."
   ]
  },
  {
   "cell_type": "code",
   "execution_count": 11,
   "metadata": {
    "collapsed": false
   },
   "outputs": [
    {
     "name": "stdout",
     "output_type": "stream",
     "text": [
      "Average number of comments in ask posts: 14.038417431192661\n",
      "Average number of comments in show posts: 10.31669535283993\n"
     ]
    }
   ],
   "source": [
    "# find total number of comments in ask posts\n",
    "total_ask_comments = 0\n",
    "\n",
    "for post in ask_posts:\n",
    "    num_comments = int(post[4])\n",
    "    total_ask_comments += num_comments\n",
    "\n",
    "# compute average number of comments in ask posts\n",
    "avg_ask_comments = total_ask_comments / len(ask_posts)\n",
    "\n",
    "# find total number of comments in show posts\n",
    "total_show_comments = 0\n",
    "\n",
    "for post in show_posts:\n",
    "    num_comments = int(post[4])\n",
    "    total_show_comments += num_comments\n",
    "    \n",
    "# compute average number of comments in show posts\n",
    "avg_show_comments = total_show_comments / len(show_posts)\n",
    "\n",
    "# display results\n",
    "print(\"Average number of comments in ask posts:\", avg_ask_comments)\n",
    "print(\"Average number of comments in show posts:\", avg_show_comments)"
   ]
  },
  {
   "cell_type": "markdown",
   "metadata": {},
   "source": [
    "<b>Comment:</b> On average, the ask posts receive more comments than the show posts. Thus, we will focus our analysis on the ask posts as they are likely to receive more comments.\n",
    "\n",
    "Next, we'll determine if ask posts created at a certain time are more likely to attract comments. "
   ]
  },
  {
   "cell_type": "markdown",
   "metadata": {},
   "source": [
    "## Finding the Amount of Ask Posts and Comments by Hour Created "
   ]
  },
  {
   "cell_type": "markdown",
   "metadata": {},
   "source": [
    "We'll use the following steps to perform this analysis:\n",
    "\n",
    "1. Calculate the amount of ask posts created in each hour of the day, along with the number of comments received.\n",
    "2. Calculate the average number of comments ask posts receive by hour created."
   ]
  },
  {
   "cell_type": "code",
   "execution_count": 26,
   "metadata": {
    "collapsed": false
   },
   "outputs": [
    {
     "name": "stdout",
     "output_type": "stream",
     "text": [
      "Post Count by Hour\n",
      "{'01': 60, '05': 46, '11': 58, '02': 58, '18': 109, '22': 71, '00': 55, '23': 68, '09': 45, '16': 108, '10': 59, '15': 116, '14': 107, '17': 100, '13': 85, '21': 109, '04': 47, '06': 44, '08': 48, '07': 34, '20': 80, '19': 110, '03': 54, '12': 73}\n",
      "\n",
      "Comment Frequency by Hour\n",
      "{'01': 683, '05': 464, '11': 641, '02': 1381, '18': 1439, '22': 479, '00': 447, '23': 543, '09': 251, '16': 1814, '10': 793, '15': 4477, '14': 1416, '17': 1146, '13': 1253, '21': 1745, '04': 337, '06': 397, '08': 492, '07': 267, '20': 1722, '19': 1188, '03': 421, '12': 687}\n"
     ]
    }
   ],
   "source": [
    "import datetime as dt\n",
    "\n",
    "result_list = []\n",
    "for post in ask_posts:\n",
    "    created_at = post[6]\n",
    "    num_comments = int(post[4])\n",
    "    result_list.append([created_at, num_comments])\n",
    "\n",
    "# counts_by_hour: contains the number of ask posts created during each hour of the day.\n",
    "# comments_by_hour: contains the corresponding number of comments ask posts created at each hour received.\n",
    "counts_by_hour, comments_by_hour = {}, {}\n",
    "\n",
    "for item in result_list:\n",
    "    time = item[0]\n",
    "    time = dt.datetime.strptime(time, \"%m/%d/%Y %H:%M\")\n",
    "    hour = time.strftime(\"%H\")\n",
    "    \n",
    "    if hour not in counts_by_hour:\n",
    "        counts_by_hour[hour] = 1\n",
    "        comments_by_hour[hour] = item[1]\n",
    "    else:\n",
    "        counts_by_hour[hour] += 1\n",
    "        comments_by_hour[hour] += item[1]\n",
    "\n",
    "print(\"Post Count by Hour\")\n",
    "print(counts_by_hour)\n",
    "print()\n",
    "print(\"Comment Frequency by Hour\")\n",
    "print(comments_by_hour)"
   ]
  },
  {
   "cell_type": "markdown",
   "metadata": {},
   "source": [
    "## Calculating the Average Number of Comments for Ask HN Posts by Hour"
   ]
  },
  {
   "cell_type": "markdown",
   "metadata": {},
   "source": [
    "Now, we will use the two dictionaries to calculate the average number of comments for posts created during each hour of the day."
   ]
  },
  {
   "cell_type": "code",
   "execution_count": 29,
   "metadata": {
    "collapsed": false
   },
   "outputs": [
    {
     "name": "stdout",
     "output_type": "stream",
     "text": [
      "['01', 11.383333333333333]\n",
      "['05', 10.08695652173913]\n",
      "['11', 11.051724137931034]\n",
      "['02', 23.810344827586206]\n",
      "['18', 13.20183486238532]\n",
      "['22', 6.746478873239437]\n",
      "['00', 8.127272727272727]\n",
      "['23', 7.985294117647059]\n",
      "['09', 5.5777777777777775]\n",
      "['16', 16.796296296296298]\n",
      "['10', 13.440677966101696]\n",
      "['15', 38.5948275862069]\n",
      "['14', 13.233644859813085]\n",
      "['17', 11.46]\n",
      "['13', 14.741176470588234]\n",
      "['21', 16.009174311926607]\n",
      "['04', 7.170212765957447]\n",
      "['06', 9.022727272727273]\n",
      "['08', 10.25]\n",
      "['07', 7.852941176470588]\n",
      "['20', 21.525]\n",
      "['19', 10.8]\n",
      "['03', 7.796296296296297]\n",
      "['12', 9.41095890410959]\n"
     ]
    }
   ],
   "source": [
    "# calculate the average number of comments per post for posts created during each hour\n",
    "avg_by_hour = []\n",
    "\n",
    "for hour in counts_by_hour.keys():\n",
    "    hour_avg = comments_by_hour[hour] / counts_by_hour[hour]\n",
    "    avg_comments = [hour, hour_avg]\n",
    "    avg_by_hour.append(avg_comments)\n",
    "    \n",
    "# display the list of lists\n",
    "for item in avg_by_hour:\n",
    "    print(item)"
   ]
  },
  {
   "cell_type": "markdown",
   "metadata": {},
   "source": [
    "Although we now have the results we need, this format makes it hard to identify the hours with the highest values. Let's finish by sorting the list of lists and printing the five highest values in a format that's easier to read."
   ]
  },
  {
   "cell_type": "code",
   "execution_count": 40,
   "metadata": {
    "collapsed": false
   },
   "outputs": [
    {
     "name": "stdout",
     "output_type": "stream",
     "text": [
      "Top 5 Hours for Ask Posts Comments\n",
      "15:00: 38.59 average comments per post\n",
      "02:00: 23.81 average comments per post\n",
      "20:00: 21.52 average comments per post\n",
      "16:00: 16.80 average comments per post\n",
      "21:00: 16.01 average comments per post\n"
     ]
    }
   ],
   "source": [
    "# swap the hour with their respective average comments total\n",
    "swap_avg_by_hour = []\n",
    "for item in avg_by_hour:\n",
    "    hour = item[0]\n",
    "    avg = item[1]\n",
    "    swap_avg_by_hour.append([avg, hour])\n",
    "    \n",
    "# sort the avg comments in descending order\n",
    "sorted_swap = sorted(swap_avg_by_hour, reverse = True)\n",
    "\n",
    "print(\"Top 5 Hours for Ask Posts Comments\")\n",
    "for item in sorted_swap[:5]:\n",
    "    hour = dt.datetime.strptime(item[1], \"%H\")\n",
    "    hour = hour.strftime(\"%H:%M\")\n",
    "    display_string = \"{hour}: {avg:.2f} average comments per post\".format(hour=hour, avg=item[0])\n",
    "    print(display_string)"
   ]
  },
  {
   "cell_type": "markdown",
   "metadata": {},
   "source": [
    "<b>Conclusion:<\\b> Thus, the best time to create a ask post that results in the most interaction by other users (i.e. commenting on your post) is during these times. It is clear that the best time to as is at around 3pm as each post gets around 38.59 comments followed by 2 am with 23.81 comments."
   ]
  }
 ],
 "metadata": {
  "kernelspec": {
   "display_name": "Python 3",
   "language": "python",
   "name": "python3"
  },
  "language_info": {
   "codemirror_mode": {
    "name": "ipython",
    "version": 3
   },
   "file_extension": ".py",
   "mimetype": "text/x-python",
   "name": "python",
   "nbconvert_exporter": "python",
   "pygments_lexer": "ipython3",
   "version": "3.4.3"
  }
 },
 "nbformat": 4,
 "nbformat_minor": 2
}
